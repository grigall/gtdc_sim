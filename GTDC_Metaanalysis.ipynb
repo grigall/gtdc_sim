{
 "cells": [
  {
   "cell_type": "code",
   "execution_count": 1,
   "id": "4431ac5c",
   "metadata": {},
   "outputs": [
    {
     "name": "stdout",
     "output_type": "stream",
     "text": [
      "Data prepared!\n"
     ]
    }
   ],
   "source": [
    "import os\n",
    "import numpy as np\n",
    "import pandas as pd\n",
    "\n",
    "batch = 10\n",
    "\n",
    "FILE = f'Batch_{batch}.csv'\n",
    "PATH = os.getcwd()\n",
    "FULL_PATH = os.path.join(PATH, FILE)\n",
    "\n",
    "data = pd.read_csv(FULL_PATH, sep='\\t', encoding='utf-8')\n",
    "\n",
    "def catEncode(series, input_type=str):\n",
    "    if input_type == list:\n",
    "        final_input = np.array([eval(i)[0] for i in series]).reshape(-1,1)\n",
    "    elif input_type == tuple:\n",
    "        final_input = np.array([str(i) for i in series]).reshape(-1,1)\n",
    "    else:\n",
    "        final_input = np.array(series).reshape(-1,1)\n",
    "    \n",
    "    #Encode categorical variables\n",
    "    from sklearn.preprocessing import OrdinalEncoder\n",
    "    ord_enc = OrdinalEncoder(categories='auto')\n",
    "    newCats = ord_enc.fit_transform(final_input)\n",
    "    return newCats.ravel()\n",
    "\n",
    "def catScale(dataframe):\n",
    "    #from sklearn.preprocessing import StandardScaler\n",
    "    #scaler = StandardScaler()\n",
    "    from sklearn.preprocessing import MinMaxScaler\n",
    "    scaler = MinMaxScaler()\n",
    "    \n",
    "    df_out = scaler.fit_transform(dataframe)\n",
    "    return df_out\n",
    "\n",
    "def catSplit(X_input, y_input, test_size=0.2):\n",
    "    from sklearn.model_selection import train_test_split\n",
    "    X_train, X_test, y_train, y_test = train_test_split(X_input, y_input, test_size=test_size, random_state=42, stratify=y_input)\n",
    "    return X_train, X_test, y_train, y_test\n",
    "\n",
    "def rndForest(X_train, X_test, y_train, y_test, dataframe):\n",
    "    from sklearn.ensemble import RandomForestClassifier\n",
    "    from sklearn.metrics import accuracy_score\n",
    "    clf = RandomForestClassifier(random_state=0, n_jobs=-1, min_samples_split=2, max_features=None)\n",
    "    clf.fit(X_train, y_train)\n",
    "    y_pred = clf.predict(X_test)\n",
    "    accuracy = accuracy_score(y_test, y_pred)\n",
    "\n",
    "    print(f'Accuracy Score:{accuracy}')\n",
    "\n",
    "    return pd.DataFrame([clf.feature_importances_], columns=dataframe.columns.tolist()[0:-1], index=['Feature_Importance'])\n",
    "\n",
    "def prepData(dataframe):\n",
    "    d2 = dataframe.loc[:, ['Active_Player', 'Active_Enemy', 'AP_HP', 'AP_STR', 'AP_WPN', 'Played_Cards', 'Faceoff','Match_Result']].copy()\n",
    "    \n",
    "    #Encode data\n",
    "    df_train = pd.DataFrame(None)\n",
    "    df_train['AP'] = catEncode(d2.Active_Player)\n",
    "    df_train['AE'] = catEncode(d2.Active_Enemy)\n",
    "    df_train = pd.concat([df_train, d2.loc[:, ['AP_HP', 'AP_STR']]], axis=1)\n",
    "    df_train['AP_WPN'] = catEncode(d2.AP_WPN)\n",
    "    df_train['AP_Cards'] = catEncode(d2.Played_Cards, input_type=list)\n",
    "    df_train['Faceoff'] = catEncode(d2.Faceoff, input_type=tuple)\n",
    "    df_train['Result'] = catEncode(d2.Match_Result)\n",
    "    df_train.fillna(0, inplace=True) #Replace NaN values with zeros\n",
    "\n",
    "    #Scale and split data\n",
    "    X = catScale(df_train.loc[:, ['AP', 'AE', 'AP_HP', 'AP_STR', 'AP_WPN', 'AP_Cards', 'Faceoff']])\n",
    "    y = df_train.loc[:, 'Result']\n",
    "    X_train, X_test, y_train, y_test = catSplit(X, y)\n",
    "    return X_train, X_test, y_train, y_test, df_train\n",
    "\n",
    "X_train, X_test, y_train, y_test, df_train = prepData(data)\n",
    "print('Data prepared!') #DEBUG"
   ]
  },
  {
   "cell_type": "code",
   "execution_count": 2,
   "id": "3aaa2de5",
   "metadata": {},
   "outputs": [
    {
     "name": "stdout",
     "output_type": "stream",
     "text": [
      "Accuracy Score:0.8883931522242051\n"
     ]
    },
    {
     "data": {
      "text/html": [
       "<div>\n",
       "<style scoped>\n",
       "    .dataframe tbody tr th:only-of-type {\n",
       "        vertical-align: middle;\n",
       "    }\n",
       "\n",
       "    .dataframe tbody tr th {\n",
       "        vertical-align: top;\n",
       "    }\n",
       "\n",
       "    .dataframe thead th {\n",
       "        text-align: right;\n",
       "    }\n",
       "</style>\n",
       "<table border=\"1\" class=\"dataframe\">\n",
       "  <thead>\n",
       "    <tr style=\"text-align: right;\">\n",
       "      <th></th>\n",
       "      <th>AP</th>\n",
       "      <th>AE</th>\n",
       "      <th>AP_HP</th>\n",
       "      <th>AP_STR</th>\n",
       "      <th>AP_WPN</th>\n",
       "      <th>AP_Cards</th>\n",
       "      <th>Faceoff</th>\n",
       "    </tr>\n",
       "  </thead>\n",
       "  <tbody>\n",
       "    <tr>\n",
       "      <th>Feature_Importance</th>\n",
       "      <td>0.030387</td>\n",
       "      <td>0.01989</td>\n",
       "      <td>0.089556</td>\n",
       "      <td>0.741815</td>\n",
       "      <td>0.002709</td>\n",
       "      <td>0.07061</td>\n",
       "      <td>0.045032</td>\n",
       "    </tr>\n",
       "  </tbody>\n",
       "</table>\n",
       "</div>"
      ],
      "text/plain": [
       "                          AP       AE     AP_HP    AP_STR    AP_WPN  AP_Cards  \\\n",
       "Feature_Importance  0.030387  0.01989  0.089556  0.741815  0.002709   0.07061   \n",
       "\n",
       "                     Faceoff  \n",
       "Feature_Importance  0.045032  "
      ]
     },
     "execution_count": 2,
     "metadata": {},
     "output_type": "execute_result"
    }
   ],
   "source": [
    "feat_imp = rndForest(X_train, X_test, y_train, y_test, df_train)\n",
    "feat_imp"
   ]
  },
  {
   "cell_type": "code",
   "execution_count": null,
   "id": "44f7f10e",
   "metadata": {},
   "outputs": [],
   "source": [
    "from sklearn.svm import SVC\n",
    "from sklearn.metrics import accuracy_score\n",
    "svm = SVC(C=0.8, kernel='rbf', degree=3, random_state=42)\n",
    "svm.fit(X_train, y_train)\n",
    "y_pred = svm.predict(X_test)\n",
    "accuracy = accuracy_score(y_test, y_pred)\n",
    "print(f'Accuracy Score:{accuracy}')"
   ]
  },
  {
   "cell_type": "code",
   "execution_count": null,
   "id": "823a12c2",
   "metadata": {},
   "outputs": [],
   "source": [
    "from sklearn.ensemble import HistGradientBoostingClassifier\n",
    "from sklearn.metrics import accuracy_score\n",
    "gbc = HistGradientBoostingClassifier(random_state=42, categorical_features=[True, True, False, False, True, True, True])\n",
    "gbc.fit(X_train, y_train)\n",
    "y_pred = gbc.predict(X_test)\n",
    "accuracy = accuracy_score(y_test, y_pred)\n",
    "print(f'Accuracy Score:{accuracy}')"
   ]
  },
  {
   "cell_type": "markdown",
   "id": "208325c6",
   "metadata": {},
   "source": [
    "#Batch_3\n",
    "RFC no params == 0.8087 accuracy\n",
    "SVM rbf, C=0.8 == 0.7669 accuracy\n",
    "SVM poly3, C=0.8 == 0.733 accuracy\n",
    "HistGBC  == ??? accuracy\n",
    "\n",
    "#Batch_4\n",
    "RFC no params == 0.8087 accuracy\n",
    "HistGBC == 0.5851 accuracy\n",
    "\n",
    "#Batch_5\n",
    "RFC max_est=None; == 0.8115 accuracy\n",
    "HistGBC == 0.5866 accuracy"
   ]
  },
  {
   "cell_type": "markdown",
   "id": "bafb1f0b",
   "metadata": {},
   "source": [
    "def prepDataLite(dataframe):\n",
    "    d2 = dataframe.loc[:, ['Active_Enemy', 'AP_HP', 'AP_STR', 'AP_WPN', 'Played_Cards','Match_Result']].copy()\n",
    "    \n",
    "    #Encode data\n",
    "    df_train = pd.DataFrame(None)\n",
    "    df_train['AE'] = catEncode(d2.Active_Enemy)\n",
    "    df_train = pd.concat([df_train, d2.loc[:, ['AP_HP', 'AP_STR']]], axis=1)\n",
    "    df_train['AP_WPN'] = catEncode(d2.AP_WPN)\n",
    "    df_train['AP_Cards'] = catEncode(d2.Played_Cards, input_type=list)\n",
    "    df_train['Result'] = catEncode(d2.Match_Result)\n",
    "    df_train.fillna(0, inplace=True) #Replace NaN values with zeros\n",
    "\n",
    "    #Scale and split data\n",
    "    X = catScale(df_train.loc[:, ['AE', 'AP_HP', 'AP_STR', 'AP_WPN', 'AP_Cards']])\n",
    "    y = df_train.loc[:, 'Result']\n",
    "    X_train, X_test, y_train, y_test = catSplit(X, y)\n",
    "    return X_train, X_test, y_train, y_test, df_train\n",
    "\n",
    "X_train2, X_test2, y_train2, y_test2, df_train2 = prepDataLite(data)\n",
    "feat_imp2 = rndForest(X_train2, X_test2, y_train2, y_test2, df_train2)\n",
    "feat_imp2"
   ]
  }
 ],
 "metadata": {
  "kernelspec": {
   "display_name": "Python 3 (ipykernel)",
   "language": "python",
   "name": "python3"
  },
  "language_info": {
   "codemirror_mode": {
    "name": "ipython",
    "version": 3
   },
   "file_extension": ".py",
   "mimetype": "text/x-python",
   "name": "python",
   "nbconvert_exporter": "python",
   "pygments_lexer": "ipython3",
   "version": "3.10.12"
  }
 },
 "nbformat": 4,
 "nbformat_minor": 5
}
